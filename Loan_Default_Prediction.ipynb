{
  "metadata": {
    "kernelspec": {
      "language": "python",
      "display_name": "Python 3",
      "name": "python3"
    },
    "language_info": {
      "name": "python",
      "version": "3.10.14",
      "mimetype": "text/x-python",
      "codemirror_mode": {
        "name": "ipython",
        "version": 3
      },
      "pygments_lexer": "ipython3",
      "nbconvert_exporter": "python",
      "file_extension": ".py"
    },
    "kaggle": {
      "accelerator": "none",
      "dataSources": [
        {
          "sourceId": 6453754,
          "sourceType": "datasetVersion",
          "datasetId": 3725579
        }
      ],
      "dockerImageVersionId": 30761,
      "isInternetEnabled": true,
      "language": "python",
      "sourceType": "notebook",
      "isGpuEnabled": false
    },
    "colab": {
      "provenance": [],
      "include_colab_link": true
    }
  },
  "nbformat_minor": 0,
  "nbformat": 4,
  "cells": [
    {
      "cell_type": "markdown",
      "metadata": {
        "id": "view-in-github",
        "colab_type": "text"
      },
      "source": [
        "<a href=\"https://colab.research.google.com/github/WebXpertAlando/Streamlit_Deployment_Loan_Defaulting/blob/main/Loan_Default_Prediction.ipynb\" target=\"_parent\"><img src=\"https://colab.research.google.com/assets/colab-badge.svg\" alt=\"Open In Colab\"/></a>"
      ]
    },
    {
      "cell_type": "markdown",
      "source": [],
      "metadata": {
        "id": "BXQ49NIAxBZJ"
      }
    },
    {
      "cell_type": "code",
      "source": [
        "from google.colab import drive\n",
        "drive.mount('/content/drive')\n"
      ],
      "metadata": {
        "colab": {
          "base_uri": "https://localhost:8080/",
          "height": 304
        },
        "id": "2LrT8WICvCT1",
        "outputId": "79f832da-bb43-42be-b951-80c2e19bde94"
      },
      "execution_count": null,
      "outputs": [
        {
          "output_type": "error",
          "ename": "ValueError",
          "evalue": "mount failed",
          "traceback": [
            "\u001b[0;31m---------------------------------------------------------------------------\u001b[0m",
            "\u001b[0;31mValueError\u001b[0m                                Traceback (most recent call last)",
            "\u001b[0;32m<ipython-input-1-d5df0069828e>\u001b[0m in \u001b[0;36m<cell line: 2>\u001b[0;34m()\u001b[0m\n\u001b[1;32m      1\u001b[0m \u001b[0;32mfrom\u001b[0m \u001b[0mgoogle\u001b[0m\u001b[0;34m.\u001b[0m\u001b[0mcolab\u001b[0m \u001b[0;32mimport\u001b[0m \u001b[0mdrive\u001b[0m\u001b[0;34m\u001b[0m\u001b[0;34m\u001b[0m\u001b[0m\n\u001b[0;32m----> 2\u001b[0;31m \u001b[0mdrive\u001b[0m\u001b[0;34m.\u001b[0m\u001b[0mmount\u001b[0m\u001b[0;34m(\u001b[0m\u001b[0;34m'/content/drive'\u001b[0m\u001b[0;34m)\u001b[0m\u001b[0;34m\u001b[0m\u001b[0;34m\u001b[0m\u001b[0m\n\u001b[0m",
            "\u001b[0;32m/usr/local/lib/python3.10/dist-packages/google/colab/drive.py\u001b[0m in \u001b[0;36mmount\u001b[0;34m(mountpoint, force_remount, timeout_ms, readonly)\u001b[0m\n\u001b[1;32m     98\u001b[0m \u001b[0;32mdef\u001b[0m \u001b[0mmount\u001b[0m\u001b[0;34m(\u001b[0m\u001b[0mmountpoint\u001b[0m\u001b[0;34m,\u001b[0m \u001b[0mforce_remount\u001b[0m\u001b[0;34m=\u001b[0m\u001b[0;32mFalse\u001b[0m\u001b[0;34m,\u001b[0m \u001b[0mtimeout_ms\u001b[0m\u001b[0;34m=\u001b[0m\u001b[0;36m120000\u001b[0m\u001b[0;34m,\u001b[0m \u001b[0mreadonly\u001b[0m\u001b[0;34m=\u001b[0m\u001b[0;32mFalse\u001b[0m\u001b[0;34m)\u001b[0m\u001b[0;34m:\u001b[0m\u001b[0;34m\u001b[0m\u001b[0;34m\u001b[0m\u001b[0m\n\u001b[1;32m     99\u001b[0m   \u001b[0;34m\"\"\"Mount your Google Drive at the specified mountpoint path.\"\"\"\u001b[0m\u001b[0;34m\u001b[0m\u001b[0;34m\u001b[0m\u001b[0m\n\u001b[0;32m--> 100\u001b[0;31m   return _mount(\n\u001b[0m\u001b[1;32m    101\u001b[0m       \u001b[0mmountpoint\u001b[0m\u001b[0;34m,\u001b[0m\u001b[0;34m\u001b[0m\u001b[0;34m\u001b[0m\u001b[0m\n\u001b[1;32m    102\u001b[0m       \u001b[0mforce_remount\u001b[0m\u001b[0;34m=\u001b[0m\u001b[0mforce_remount\u001b[0m\u001b[0;34m,\u001b[0m\u001b[0;34m\u001b[0m\u001b[0;34m\u001b[0m\u001b[0m\n",
            "\u001b[0;32m/usr/local/lib/python3.10/dist-packages/google/colab/drive.py\u001b[0m in \u001b[0;36m_mount\u001b[0;34m(mountpoint, force_remount, timeout_ms, ephemeral, readonly)\u001b[0m\n\u001b[1;32m    281\u001b[0m             \u001b[0;34m'https://research.google.com/colaboratory/faq.html#drive-timeout'\u001b[0m\u001b[0;34m\u001b[0m\u001b[0;34m\u001b[0m\u001b[0m\n\u001b[1;32m    282\u001b[0m         )\n\u001b[0;32m--> 283\u001b[0;31m       \u001b[0;32mraise\u001b[0m \u001b[0mValueError\u001b[0m\u001b[0;34m(\u001b[0m\u001b[0;34m'mount failed'\u001b[0m \u001b[0;34m+\u001b[0m \u001b[0mextra_reason\u001b[0m\u001b[0;34m)\u001b[0m\u001b[0;34m\u001b[0m\u001b[0;34m\u001b[0m\u001b[0m\n\u001b[0m\u001b[1;32m    284\u001b[0m     \u001b[0;32melif\u001b[0m \u001b[0mcase\u001b[0m \u001b[0;34m==\u001b[0m \u001b[0;36m4\u001b[0m\u001b[0;34m:\u001b[0m\u001b[0;34m\u001b[0m\u001b[0;34m\u001b[0m\u001b[0m\n\u001b[1;32m    285\u001b[0m       \u001b[0;31m# Terminate the DriveFS binary before killing bash.\u001b[0m\u001b[0;34m\u001b[0m\u001b[0;34m\u001b[0m\u001b[0m\n",
            "\u001b[0;31mValueError\u001b[0m: mount failed"
          ]
        }
      ]
    },
    {
      "cell_type": "code",
      "source": [
        "\n",
        "import seaborn as sns\n",
        "import warnings\n",
        "warnings.filterwarnings('ignore')\n",
        "import numpy as np # linear algebra\n",
        "import pandas as pd # data processing, CSV file I/O (e.g. pd.read_csv)\n",
        "import matplotlib.pyplot as plt"
      ],
      "metadata": {
        "_uuid": "8f2839f25d086af736a60e9eeb907d3b93b6e0e5",
        "_cell_guid": "b1076dfc-b9ad-4769-8c92-a6c4dae69d19",
        "execution": {
          "iopub.status.busy": "2024-09-04T13:30:33.657691Z",
          "iopub.execute_input": "2024-09-04T13:30:33.658151Z",
          "iopub.status.idle": "2024-09-04T13:30:36.21933Z",
          "shell.execute_reply.started": "2024-09-04T13:30:33.658102Z",
          "shell.execute_reply": "2024-09-04T13:30:36.218091Z"
        },
        "trusted": true,
        "id": "0VoxUoP6PBml"
      },
      "execution_count": null,
      "outputs": []
    },
    {
      "cell_type": "code",
      "source": [
        "df = pd.read_csv(\"/content/drive/MyDrive/Loan_default.csv\")"
      ],
      "metadata": {
        "execution": {
          "iopub.status.busy": "2024-09-04T13:30:36.222062Z",
          "iopub.execute_input": "2024-09-04T13:30:36.22275Z",
          "iopub.status.idle": "2024-09-04T13:30:37.644056Z",
          "shell.execute_reply.started": "2024-09-04T13:30:36.222695Z",
          "shell.execute_reply": "2024-09-04T13:30:37.642703Z"
        },
        "trusted": true,
        "id": "iDhwXrAcPBmn"
      },
      "execution_count": null,
      "outputs": []
    },
    {
      "cell_type": "markdown",
      "source": [
        "# Data Overview"
      ],
      "metadata": {
        "id": "EfVNCcy_PBmq"
      }
    },
    {
      "cell_type": "code",
      "source": [
        "df.head()"
      ],
      "metadata": {
        "execution": {
          "iopub.status.busy": "2024-09-04T13:30:37.645636Z",
          "iopub.execute_input": "2024-09-04T13:30:37.646136Z",
          "iopub.status.idle": "2024-09-04T13:30:37.688469Z",
          "shell.execute_reply.started": "2024-09-04T13:30:37.646082Z",
          "shell.execute_reply": "2024-09-04T13:30:37.687009Z"
        },
        "trusted": true,
        "id": "2DI9Hq9aPBmt"
      },
      "execution_count": null,
      "outputs": []
    },
    {
      "cell_type": "code",
      "source": [
        "df.shape"
      ],
      "metadata": {
        "execution": {
          "iopub.status.busy": "2024-09-04T13:30:37.690217Z",
          "iopub.execute_input": "2024-09-04T13:30:37.690623Z",
          "iopub.status.idle": "2024-09-04T13:30:37.699538Z",
          "shell.execute_reply.started": "2024-09-04T13:30:37.690583Z",
          "shell.execute_reply": "2024-09-04T13:30:37.698067Z"
        },
        "trusted": true,
        "id": "DSWNbKKtPBmw"
      },
      "execution_count": null,
      "outputs": []
    },
    {
      "cell_type": "code",
      "source": [
        "df.info()"
      ],
      "metadata": {
        "execution": {
          "iopub.status.busy": "2024-09-04T13:30:37.70305Z",
          "iopub.execute_input": "2024-09-04T13:30:37.703536Z",
          "iopub.status.idle": "2024-09-04T13:30:37.968262Z",
          "shell.execute_reply.started": "2024-09-04T13:30:37.703465Z",
          "shell.execute_reply": "2024-09-04T13:30:37.966763Z"
        },
        "trusted": true,
        "id": "ZamGVF7mPBmx"
      },
      "execution_count": null,
      "outputs": []
    },
    {
      "cell_type": "code",
      "source": [
        "df.isnull().sum()"
      ],
      "metadata": {
        "execution": {
          "iopub.status.busy": "2024-09-04T13:30:37.969932Z",
          "iopub.execute_input": "2024-09-04T13:30:37.970417Z",
          "iopub.status.idle": "2024-09-04T13:30:38.207884Z",
          "shell.execute_reply.started": "2024-09-04T13:30:37.97036Z",
          "shell.execute_reply": "2024-09-04T13:30:38.206612Z"
        },
        "trusted": true,
        "id": "MAyLSuejPBmz"
      },
      "execution_count": null,
      "outputs": []
    },
    {
      "cell_type": "code",
      "source": [
        "df.tail()"
      ],
      "metadata": {
        "id": "_PeM9wvOMZHe"
      },
      "execution_count": null,
      "outputs": []
    },
    {
      "cell_type": "code",
      "source": [
        "df.duplicated().sum()"
      ],
      "metadata": {
        "execution": {
          "iopub.status.busy": "2024-09-04T13:30:38.209387Z",
          "iopub.execute_input": "2024-09-04T13:30:38.209747Z",
          "iopub.status.idle": "2024-09-04T13:30:38.530967Z",
          "shell.execute_reply.started": "2024-09-04T13:30:38.209702Z",
          "shell.execute_reply": "2024-09-04T13:30:38.529537Z"
        },
        "trusted": true,
        "id": "uOEbSxUzPBm1"
      },
      "execution_count": null,
      "outputs": []
    },
    {
      "cell_type": "markdown",
      "source": [
        "# Descriptive Statistics"
      ],
      "metadata": {
        "id": "tRu9GdOkPBm2"
      }
    },
    {
      "cell_type": "code",
      "source": [
        "df.describe().T"
      ],
      "metadata": {
        "execution": {
          "iopub.status.busy": "2024-09-04T13:30:38.532469Z",
          "iopub.execute_input": "2024-09-04T13:30:38.532923Z",
          "iopub.status.idle": "2024-09-04T13:30:38.660996Z",
          "shell.execute_reply.started": "2024-09-04T13:30:38.532881Z",
          "shell.execute_reply": "2024-09-04T13:30:38.659556Z"
        },
        "trusted": true,
        "id": "EVxO2UqGPBm3"
      },
      "execution_count": null,
      "outputs": []
    },
    {
      "cell_type": "markdown",
      "source": [
        "# Visualization"
      ],
      "metadata": {
        "execution": {
          "iopub.status.busy": "2024-09-02T20:06:43.235366Z",
          "iopub.execute_input": "2024-09-02T20:06:43.235793Z",
          "iopub.status.idle": "2024-09-02T20:06:43.241673Z",
          "shell.execute_reply.started": "2024-09-02T20:06:43.235752Z",
          "shell.execute_reply": "2024-09-02T20:06:43.240336Z"
        },
        "id": "dvwI7pt8PBm3"
      }
    },
    {
      "cell_type": "markdown",
      "source": [
        "**Default Distribution**"
      ],
      "metadata": {
        "id": "A1XgcxSuPBm4"
      }
    },
    {
      "cell_type": "code",
      "source": [
        "# # Define function to group age into bins with specific ranges\n",
        "# def group_age(df, age_column='Age'):\n",
        "#     # Define the age bins and labels with specified intervals\n",
        "#     bins = [18, 25, 30, 35, 40, 45, 50, 55, 60, 65, float('inf')]\n",
        "#     labels = ['18-24', '25-29', '30-34', '35-39', '40-44', '45-49', '50-54', '55-59', '60-64', '65-69']\n",
        "\n",
        "#     # Create a new column 'Age Group' using pd.cut\n",
        "#     df['Age Group'] = pd.cut(df[age_column], bins=bins, labels=labels, right=False)\n",
        "#     return df\n",
        "\n",
        "# # Apply the function to your DataFrame\n",
        "# df = group_age(df)\n"
      ],
      "metadata": {
        "id": "VyQfoP57wmxt"
      },
      "execution_count": null,
      "outputs": []
    },
    {
      "cell_type": "code",
      "source": [
        "# # Create a count plot with 'Age Group' on the x-axis and 'Default' as hue\n",
        "# plt.figure(figsize=(8, 5))\n",
        "# sns.countplot(x='Age Group', data=df, hue='Default', palette='magma')\n",
        "\n",
        "# # Set plot labels and title\n",
        "# plt.xlabel('Age Group')\n",
        "# plt.ylabel('Count')\n",
        "# plt.title('Count Plot of Defaults by Age Group')\n",
        "# plt.legend(title='Default Status', loc='upper right')\n",
        "\n",
        "# 0 non defaulters 1 Defaulters\n"
      ],
      "metadata": {
        "id": "ta74rZLOw6od"
      },
      "execution_count": null,
      "outputs": []
    },
    {
      "cell_type": "code",
      "source": [
        "df_num = df.select_dtypes(exclude = ['object']).drop(['Default','DTIRatio','LoanTerm'], axis = 1)\n",
        "df_num"
      ],
      "metadata": {
        "execution": {
          "iopub.status.busy": "2024-09-04T13:30:38.925486Z",
          "iopub.execute_input": "2024-09-04T13:30:38.928628Z",
          "iopub.status.idle": "2024-09-04T13:30:38.93867Z",
          "shell.execute_reply.started": "2024-09-04T13:30:38.928577Z",
          "shell.execute_reply": "2024-09-04T13:30:38.93735Z"
        },
        "trusted": true,
        "id": "k6ai6dmlPBm4"
      },
      "execution_count": null,
      "outputs": []
    },
    {
      "cell_type": "code",
      "source": [
        "df['NumCreditLines'].unique()"
      ],
      "metadata": {
        "id": "quniM8ggn3KS"
      },
      "execution_count": null,
      "outputs": []
    },
    {
      "cell_type": "code",
      "source": [
        "for col in df_num:\n",
        "    sns.boxplot(x = 'Default' , y = df[col], data =df , palette = 'dark')\n",
        "    plt.show()"
      ],
      "metadata": {
        "execution": {
          "iopub.status.busy": "2024-09-04T13:30:38.940558Z",
          "iopub.execute_input": "2024-09-04T13:30:38.941111Z",
          "iopub.status.idle": "2024-09-04T13:30:42.279508Z",
          "shell.execute_reply.started": "2024-09-04T13:30:38.941044Z",
          "shell.execute_reply": "2024-09-04T13:30:42.278113Z"
        },
        "trusted": true,
        "id": "caQEZwtSPBm5"
      },
      "execution_count": null,
      "outputs": []
    },
    {
      "cell_type": "markdown",
      "source": [
        "# Interpretation"
      ],
      "metadata": {
        "id": "PXfbhWeaPBm5"
      }
    },
    {
      "cell_type": "markdown",
      "source": [
        "1. Older people are seen less likely to default\n",
        "\n",
        "2. The dafaulters are seen with lower avg income\n",
        "\n",
        "3. The dafaulters are seen with larger Loan Amount and lesser credit score\n",
        "\n",
        "4. People having higher Interest rate are more likely to default"
      ],
      "metadata": {
        "id": "vffhVxM_PBm5"
      }
    },
    {
      "cell_type": "markdown",
      "source": [
        "# Correlation"
      ],
      "metadata": {
        "id": "fs5FtDbIPBm6"
      }
    },
    {
      "cell_type": "code",
      "source": [
        "df_num.corr()"
      ],
      "metadata": {
        "execution": {
          "iopub.status.busy": "2024-09-04T13:30:42.281461Z",
          "iopub.execute_input": "2024-09-04T13:30:42.282802Z",
          "iopub.status.idle": "2024-09-04T13:30:42.385429Z",
          "shell.execute_reply.started": "2024-09-04T13:30:42.282753Z",
          "shell.execute_reply": "2024-09-04T13:30:42.384072Z"
        },
        "trusted": true,
        "id": "1LoKQN8MPBm6"
      },
      "execution_count": null,
      "outputs": []
    },
    {
      "cell_type": "code",
      "source": [
        "numerical_cols = df.select_dtypes(include=['float64', 'int64'])\n",
        "skewness = numerical_cols.skew()\n",
        "skewness"
      ],
      "metadata": {
        "id": "KnmbSUgt3awg"
      },
      "execution_count": null,
      "outputs": []
    },
    {
      "cell_type": "code",
      "source": [
        "  plt.figure(figsize = (10,6))\n",
        "sns.heatmap(df_num.corr(), annot = True, cmap = 'YlGnBu')"
      ],
      "metadata": {
        "execution": {
          "iopub.status.busy": "2024-09-04T13:30:42.387109Z",
          "iopub.execute_input": "2024-09-04T13:30:42.387516Z",
          "iopub.status.idle": "2024-09-04T13:30:43.338023Z",
          "shell.execute_reply.started": "2024-09-04T13:30:42.387476Z",
          "shell.execute_reply": "2024-09-04T13:30:43.336573Z"
        },
        "trusted": true,
        "id": "yRkAoZkKPBm7"
      },
      "execution_count": null,
      "outputs": []
    },
    {
      "cell_type": "markdown",
      "source": [
        "**No significant correlation found**"
      ],
      "metadata": {
        "id": "_kA66ufDPBm8"
      }
    },
    {
      "cell_type": "markdown",
      "source": [
        "# **ScatterPlot**"
      ],
      "metadata": {
        "id": "GYm2cTDvPBm8"
      }
    },
    {
      "cell_type": "code",
      "source": [
        "sns.scatterplot( x = 'Income' , y = 'LoanAmount', data =df,hue = 'Default')"
      ],
      "metadata": {
        "execution": {
          "iopub.status.busy": "2024-09-04T13:30:43.345228Z",
          "iopub.execute_input": "2024-09-04T13:30:43.346602Z",
          "iopub.status.idle": "2024-09-04T13:31:11.967737Z",
          "shell.execute_reply.started": "2024-09-04T13:30:43.346549Z",
          "shell.execute_reply": "2024-09-04T13:31:11.966447Z"
        },
        "trusted": true,
        "id": "Y_CFC3LePBm8"
      },
      "execution_count": null,
      "outputs": []
    },
    {
      "cell_type": "markdown",
      "source": [
        "No as such relationship found , the defaulters are spread between both low and high income"
      ],
      "metadata": {
        "id": "127z1jsbPBm9"
      }
    },
    {
      "cell_type": "code",
      "source": [
        "from sklearn.model_selection import train_test_split\n",
        "from sklearn.preprocessing import LabelEncoder, StandardScaler\n",
        "from sklearn import tree"
      ],
      "metadata": {
        "execution": {
          "iopub.status.busy": "2024-09-04T13:31:11.969222Z",
          "iopub.execute_input": "2024-09-04T13:31:11.969589Z",
          "iopub.status.idle": "2024-09-04T13:31:12.429041Z",
          "shell.execute_reply.started": "2024-09-04T13:31:11.96955Z",
          "shell.execute_reply": "2024-09-04T13:31:12.427828Z"
        },
        "trusted": true,
        "id": "W8RQ0Ri1PBm-"
      },
      "execution_count": null,
      "outputs": []
    },
    {
      "cell_type": "markdown",
      "source": [
        "# Feature and target segregation"
      ],
      "metadata": {
        "id": "bkuFllL1PBm-"
      }
    },
    {
      "cell_type": "code",
      "source": [
        "# dropping Loan ID\n",
        "df.drop('LoanID', axis = 1 , inplace = True)"
      ],
      "metadata": {
        "execution": {
          "iopub.status.busy": "2024-09-04T13:31:12.430609Z",
          "iopub.execute_input": "2024-09-04T13:31:12.431042Z",
          "iopub.status.idle": "2024-09-04T13:31:12.46306Z",
          "shell.execute_reply.started": "2024-09-04T13:31:12.430999Z",
          "shell.execute_reply": "2024-09-04T13:31:12.46173Z"
        },
        "trusted": true,
        "id": "NLG0-ZtxPBm-"
      },
      "execution_count": null,
      "outputs": []
    },
    {
      "cell_type": "code",
      "source": [
        "df.head()"
      ],
      "metadata": {
        "execution": {
          "iopub.status.busy": "2024-09-04T13:31:12.464523Z",
          "iopub.execute_input": "2024-09-04T13:31:12.465024Z",
          "iopub.status.idle": "2024-09-04T13:31:12.487604Z",
          "shell.execute_reply.started": "2024-09-04T13:31:12.464978Z",
          "shell.execute_reply": "2024-09-04T13:31:12.485883Z"
        },
        "trusted": true,
        "id": "CUlQCPsUPBm-"
      },
      "execution_count": null,
      "outputs": []
    },
    {
      "cell_type": "code",
      "source": [
        "x = df.drop('Default', axis = 1)\n",
        "y = df['Default']"
      ],
      "metadata": {
        "execution": {
          "iopub.status.busy": "2024-09-04T13:31:12.489244Z",
          "iopub.execute_input": "2024-09-04T13:31:12.489649Z",
          "iopub.status.idle": "2024-09-04T13:31:12.530536Z",
          "shell.execute_reply.started": "2024-09-04T13:31:12.489609Z",
          "shell.execute_reply": "2024-09-04T13:31:12.529001Z"
        },
        "trusted": true,
        "id": "81PCBhg0PBm_"
      },
      "execution_count": null,
      "outputs": []
    },
    {
      "cell_type": "markdown",
      "source": [
        "# Label Encoding"
      ],
      "metadata": {
        "id": "I3smXJPrPBm_"
      }
    },
    {
      "cell_type": "code",
      "source": [
        "# filtering only non numeric col\n",
        "df_obj = df.select_dtypes(include=['object'])"
      ],
      "metadata": {
        "execution": {
          "iopub.status.busy": "2024-09-04T13:31:12.532029Z",
          "iopub.execute_input": "2024-09-04T13:31:12.532404Z",
          "iopub.status.idle": "2024-09-04T13:31:12.55594Z",
          "shell.execute_reply.started": "2024-09-04T13:31:12.532364Z",
          "shell.execute_reply": "2024-09-04T13:31:12.554326Z"
        },
        "trusted": true,
        "id": "ZHVO2OP5PBm_"
      },
      "execution_count": null,
      "outputs": []
    },
    {
      "cell_type": "code",
      "source": [
        "enc = LabelEncoder()\n",
        "for col in df_obj:\n",
        "    x[col] = enc.fit_transform(x[col])"
      ],
      "metadata": {
        "execution": {
          "iopub.status.busy": "2024-09-04T13:31:12.558411Z",
          "iopub.execute_input": "2024-09-04T13:31:12.558989Z",
          "iopub.status.idle": "2024-09-04T13:31:13.129091Z",
          "shell.execute_reply.started": "2024-09-04T13:31:12.55892Z",
          "shell.execute_reply": "2024-09-04T13:31:13.127397Z"
        },
        "trusted": true,
        "id": "aGPkecyMPBnA"
      },
      "execution_count": null,
      "outputs": []
    },
    {
      "cell_type": "markdown",
      "source": [
        "Categorical(Textual) columns are now converted into Numerical data"
      ],
      "metadata": {
        "id": "WdJQpApjPBnA"
      }
    },
    {
      "cell_type": "code",
      "source": [
        "x.head()"
      ],
      "metadata": {
        "execution": {
          "iopub.status.busy": "2024-09-04T13:31:13.131046Z",
          "iopub.execute_input": "2024-09-04T13:31:13.131615Z",
          "iopub.status.idle": "2024-09-04T13:31:13.154593Z",
          "shell.execute_reply.started": "2024-09-04T13:31:13.131555Z",
          "shell.execute_reply": "2024-09-04T13:31:13.153091Z"
        },
        "trusted": true,
        "id": "5mUFH7RpPBnA"
      },
      "execution_count": null,
      "outputs": []
    },
    {
      "cell_type": "markdown",
      "source": [
        "# Standardization"
      ],
      "metadata": {
        "execution": {
          "iopub.status.busy": "2024-09-02T20:38:11.07052Z",
          "iopub.execute_input": "2024-09-02T20:38:11.071013Z",
          "iopub.status.idle": "2024-09-02T20:38:11.076536Z",
          "shell.execute_reply.started": "2024-09-02T20:38:11.070969Z",
          "shell.execute_reply": "2024-09-02T20:38:11.075176Z"
        },
        "id": "bQQdROyzPBnA"
      }
    },
    {
      "cell_type": "code",
      "source": [
        "from sklearn.preprocessing import MinMaxScaler\n",
        "scaler = MinMaxScaler(feature_range=(0, 1))"
      ],
      "metadata": {
        "execution": {
          "iopub.status.busy": "2024-09-04T13:31:13.157067Z",
          "iopub.execute_input": "2024-09-04T13:31:13.157681Z",
          "iopub.status.idle": "2024-09-04T13:31:13.168212Z",
          "shell.execute_reply.started": "2024-09-04T13:31:13.15762Z",
          "shell.execute_reply": "2024-09-04T13:31:13.166727Z"
        },
        "trusted": true,
        "id": "x28DSuvQPBnB"
      },
      "execution_count": null,
      "outputs": []
    },
    {
      "cell_type": "code",
      "source": [
        "x[x.columns] = scaler.fit_transform(x[x.columns])"
      ],
      "metadata": {
        "execution": {
          "iopub.status.busy": "2024-09-04T13:31:13.16998Z",
          "iopub.execute_input": "2024-09-04T13:31:13.170512Z",
          "iopub.status.idle": "2024-09-04T13:31:13.314837Z",
          "shell.execute_reply.started": "2024-09-04T13:31:13.17045Z",
          "shell.execute_reply": "2024-09-04T13:31:13.313292Z"
        },
        "trusted": true,
        "id": "6-pHa0hPPBnB"
      },
      "execution_count": null,
      "outputs": []
    },
    {
      "cell_type": "code",
      "source": [
        "x.head()"
      ],
      "metadata": {
        "execution": {
          "iopub.status.busy": "2024-09-04T13:31:13.316527Z",
          "iopub.execute_input": "2024-09-04T13:31:13.316968Z",
          "iopub.status.idle": "2024-09-04T13:31:13.341949Z",
          "shell.execute_reply.started": "2024-09-04T13:31:13.316924Z",
          "shell.execute_reply": "2024-09-04T13:31:13.340121Z"
        },
        "trusted": true,
        "id": "rbMnRzWMPBnI"
      },
      "execution_count": null,
      "outputs": []
    },
    {
      "cell_type": "markdown",
      "source": [
        "**Features are now standardized**"
      ],
      "metadata": {
        "id": "jzGftevLPBnJ"
      }
    },
    {
      "cell_type": "markdown",
      "source": [
        "# Splitting the Data into train and test part"
      ],
      "metadata": {
        "id": "Ig8ARlxnPBnJ"
      }
    },
    {
      "cell_type": "code",
      "source": [
        "x_train,x_test,y_train,y_test = train_test_split(x,y,test_size=0.2,random_state=42)"
      ],
      "metadata": {
        "execution": {
          "iopub.status.busy": "2024-09-04T13:31:13.343955Z",
          "iopub.execute_input": "2024-09-04T13:31:13.344511Z",
          "iopub.status.idle": "2024-09-04T13:31:13.453285Z",
          "shell.execute_reply.started": "2024-09-04T13:31:13.344458Z",
          "shell.execute_reply": "2024-09-04T13:31:13.451977Z"
        },
        "trusted": true,
        "id": "EUaEq-ZKPBnK"
      },
      "execution_count": null,
      "outputs": []
    },
    {
      "cell_type": "code",
      "source": [
        "x_train.shape, x_test.shape"
      ],
      "metadata": {
        "execution": {
          "iopub.status.busy": "2024-09-04T13:31:13.455487Z",
          "iopub.execute_input": "2024-09-04T13:31:13.455995Z",
          "iopub.status.idle": "2024-09-04T13:31:13.464809Z",
          "shell.execute_reply.started": "2024-09-04T13:31:13.455947Z",
          "shell.execute_reply": "2024-09-04T13:31:13.463174Z"
        },
        "trusted": true,
        "id": "ZJX_eKDOPBnK"
      },
      "execution_count": null,
      "outputs": []
    },
    {
      "cell_type": "markdown",
      "source": [
        "# Samping technique - SMOTE"
      ],
      "metadata": {
        "id": "u2q4YbBbkk-7"
      }
    },
    {
      "cell_type": "markdown",
      "source": [
        "\n",
        "- For each sample in the minority class, SMOTE identifies its nearest neighbors (usually k-nearest neighbors).\n",
        "\n",
        "- Generate synthetic samples: It then creates new synthetic samples by interpolating between the minority class sample and its neighbors. These synthetic samples are added to the dataset, improving the balance between classes."
      ],
      "metadata": {
        "id": "tvkgikFP7ByW"
      }
    },
    {
      "cell_type": "code",
      "source": [
        "from imblearn.over_sampling import SMOT\n",
        "\n",
        "# Apply SMOTE to balance the training set\n",
        "smote = SMOTE(random_state=1)\n",
        "\n",
        "# Split the dataset into training and testing sets\n",
        "x_train, x_test, y_train, y_test = train_test_split(x, y, test_size=0.2, random_state=1)\n",
        "\n",
        "# Apply SMOTE only to the training data\n",
        "x_train_smote, y_train_smote = smote.fit_resample(x_train, y_train)"
      ],
      "metadata": {
        "id": "5A4SjaO4kftf"
      },
      "execution_count": null,
      "outputs": []
    },
    {
      "cell_type": "markdown",
      "source": [
        "# Model Training"
      ],
      "metadata": {
        "id": "HgbqzKZoPBm9"
      }
    },
    {
      "cell_type": "code",
      "source": [
        "from sklearn.model_selection import train_test_split\n",
        "from sklearn.metrics import accuracy_score, f1_score, roc_auc_score, precision_score, recall_score\n",
        "from sklearn.tree import DecisionTreeClassifier\n",
        "from sklearn.linear_model import LogisticRegression\n",
        "from sklearn.ensemble import RandomForestClassifier, GradientBoostingClassifier\n",
        "import xgboost as xgb\n",
        "\n",
        "# Initialize models\n",
        "models = {\n",
        "    'Decision Tree': DecisionTreeClassifier(max_depth=4, random_state=1, criterion='entropy'),\n",
        "    'Logistic Regression': LogisticRegression(random_state=1),\n",
        "    'Random Forest': RandomForestClassifier(random_state=1),\n",
        "    'Gradient Boosting': GradientBoostingClassifier(random_state=1),\n",
        "    'XGBoost': xgb.XGBClassifier(random_state=1)\n",
        "}\n",
        "\n",
        "# List to store model metrics\n",
        "models_metrics = []\n",
        "\n",
        "# Evaluate each model\n",
        "for name, model in models.items():\n",
        "    # Fit the model on the resampled training set\n",
        "    model.fit(x_train_smote, y_train_smote)\n",
        "\n",
        "    # Predict on the test data (unbalanced original test set)\n",
        "    y_pred = model.predict(x_test)\n",
        "    y_pred_proba = model.predict_proba(x_test)[:, 1] if hasattr(model, 'predict_proba') else None\n",
        "\n",
        "    # Calculate the metrics\n",
        "    accuracy = round(accuracy_score(y_test, y_pred), 4)\n",
        "    f1 = round(f1_score(y_test, y_pred), 4)\n",
        "    precision = round(precision_score(y_test, y_pred), 4)\n",
        "    recall = round(recall_score(y_test, y_pred), 4)\n",
        "    auc = round(roc_auc_score(y_test, y_pred_proba), 4) if y_pred_proba is not None else 'N/A'\n",
        "\n",
        "    # Append the metrics to the list\n",
        "    models_metrics.append({\n",
        "        \"Model\": name,\n",
        "        \"Accuracy\": accuracy,\n",
        "        \"F1 Score\": f1,\n",
        "        \"Precision\": precision,\n",
        "        \"Recall\": recall,\n",
        "        \"AUC\": auc\n",
        "    })\n",
        "\n",
        "# Convert the results into a DataFrame for better visualization\n",
        "metrics_df = pd.DataFrame(models_metrics)\n",
        "\n",
        "# Print the results table\n",
        "metrics_df\n"
      ],
      "metadata": {
        "id": "hj_BBuguj36H"
      },
      "execution_count": null,
      "outputs": []
    },
    {
      "cell_type": "markdown",
      "source": [
        "# Fitting the training Data"
      ],
      "metadata": {
        "id": "qVZmgT7OPBnK"
      }
    },
    {
      "cell_type": "code",
      "source": [
        "from imblearn.over_sampling import SMOTE\n",
        "from sklearn.model_selection import train_test_split\n",
        "from sklearn.metrics import accuracy_score, classification_report\n",
        "\n",
        "# Assuming x_train, x_test, y_train, y_test are already split\n",
        "\n",
        "# Apply SMOTE to the training data\n",
        "smote = SMOTE(random_state=1)\n",
        "x_train_smote, y_train_smote = smote.fit_resample(x_train, y_train)\n",
        "\n",
        "# Train the XGBoost model\n",
        "import xgboost as xgb\n",
        "xgb_model = xgb.XGBClassifier(random_state=1)\n",
        "xgb_model.fit(x_train_smote, y_train_smote)\n",
        "\n",
        "# Make predictions\n",
        "y_pred = xgb_model.predict(x_test)\n",
        "\n",
        "# Evaluate the accuracy\n",
        "accuracy = accuracy_score(y_test, y_pred)\n",
        "print(f'Accuracy: {accuracy:.4f}')\n",
        "print(classification_report(y_test,y_pred))"
      ],
      "metadata": {
        "id": "Q7wpzn8dhJDz"
      },
      "execution_count": null,
      "outputs": []
    },
    {
      "cell_type": "markdown",
      "source": [
        "# Predictions"
      ],
      "metadata": {
        "id": "FfIzSMoiPBnM"
      }
    },
    {
      "cell_type": "code",
      "source": [
        "y_pred = xgb_model.predict(x_test)"
      ],
      "metadata": {
        "execution": {
          "iopub.status.busy": "2024-09-04T13:31:19.681716Z",
          "iopub.execute_input": "2024-09-04T13:31:19.682192Z",
          "iopub.status.idle": "2024-09-04T13:31:19.715124Z",
          "shell.execute_reply.started": "2024-09-04T13:31:19.682145Z",
          "shell.execute_reply": "2024-09-04T13:31:19.713741Z"
        },
        "trusted": true,
        "id": "86EipPgbPBnN"
      },
      "execution_count": null,
      "outputs": []
    },
    {
      "cell_type": "markdown",
      "source": [
        "# Accuracy Evaluation"
      ],
      "metadata": {
        "id": "FjA1QxxpPBnN"
      }
    },
    {
      "cell_type": "code",
      "source": [
        "accuracy_score(y_test,y_pred)"
      ],
      "metadata": {
        "execution": {
          "iopub.status.busy": "2024-09-04T13:31:19.716967Z",
          "iopub.execute_input": "2024-09-04T13:31:19.717468Z",
          "iopub.status.idle": "2024-09-04T13:31:19.732472Z",
          "shell.execute_reply.started": "2024-09-04T13:31:19.717425Z",
          "shell.execute_reply": "2024-09-04T13:31:19.730464Z"
        },
        "trusted": true,
        "id": "XzvaVdelPBnN"
      },
      "execution_count": null,
      "outputs": []
    },
    {
      "cell_type": "markdown",
      "source": [
        "## Feature importance"
      ],
      "metadata": {
        "id": "CYBu2lcS4YWy"
      }
    },
    {
      "cell_type": "code",
      "source": [
        "# Get feature importances\n",
        "feature_importances = xgb_model.feature_importances_\n",
        "\n",
        "# Create a DataFrame for better visualization (assuming X_train has the feature names)\n",
        "features = x_train.columns\n",
        "importance_df = pd.DataFrame({\n",
        "    'Feature': features,\n",
        "    'Importance': feature_importances\n",
        "})\n",
        "\n",
        "# Sort by importance\n",
        "importance_df = importance_df.sort_values(by='Importance', ascending=False)\n",
        "\n",
        "# Plot feature importances\n",
        "plt.figure(figsize=(10, 6))\n",
        "sns.barplot(x='Importance', y='Feature', data=importance_df, palette='viridis')\n",
        "\n",
        "# Add titles and labels\n",
        "plt.title('Feature Importance from xgboost', fontsize=16)\n",
        "plt.xlabel('Importance', fontsize=14)\n",
        "plt.ylabel('Feature', fontsize=14)\n",
        "plt.tight_layout()\n",
        "plt.show()\n"
      ],
      "metadata": {
        "id": "5tjzumbKhn51"
      },
      "execution_count": null,
      "outputs": []
    },
    {
      "cell_type": "code",
      "source": [
        "importance_df.tail()"
      ],
      "metadata": {
        "id": "z-tBaGOo5_IX"
      },
      "execution_count": null,
      "outputs": []
    },
    {
      "cell_type": "markdown",
      "source": [
        "**Feature Importance Explanation**:\n",
        "1.\tAge (15.6%): Age is the most significant factor. Typically, older customers are more financially stable and less likely to default, while younger borrowers might face more uncertainty in their financial situations.\n",
        "2.\tInterest Rate (9.1%): Higher interest rates increase the monthly payment burden, making it harder for customers to keep up with payments, thus raising the risk of default.\n",
        "3.\tHas Dependents (8.9%): Customers with dependents often have higher financial obligations, which can increase the strain on their resources, making them more susceptible to defaulting on loans.\n",
        "4.\tHas Co-Signer (8.0%): Having a co-signer reduces the risk of default because the co-signer provides an additional layer of financial responsibility. Borrowers with a co-signer are considered less risky.\n",
        "5.\tIncome (7.6%): While income is important, it ranks lower than other factors. Higher income generally means more disposable income to manage loan payments, though it's not the only determinant of financial health.\n",
        "6.\tLoan Amount (6.7%): Larger loan amounts are a financial burden, and a higher loan size relative to income could increase default risk.\n",
        "\n",
        "Additional Factors:\n",
        "\n",
        "•\tMonths Employed (6.7%): Longer employment history suggests more stable income, reducing default risk.\n",
        "\n",
        "\n",
        "**Recommendation:**\n",
        "1.\tFocus on Age and Dependents: When evaluating loan applications, consider age and whether the customer has dependents as significant risk factors. Younger borrowers and those with dependents may require more stringent loan conditions or additional screening.\n",
        "3.\tPromote Co-Signer Options: Encourage customers, especially younger or higher-risk borrowers, to secure a co-signer. This not only lowers their default risk but also makes loans more accessible.\n",
        "3.\tCredit Score Monitoring: Ensure that customers with lower credit scores undergo a stricter approval process. Offer credit improvement plans for borderline cases to help them qualify for better loan terms.\n",
        "\n"
      ],
      "metadata": {
        "id": "k7-ts4VIwraT"
      }
    },
    {
      "cell_type": "code",
      "source": [
        "from sklearn.metrics import confusion_matrix, ConfusionMatrixDisplay\n",
        "import matplotlib.pyplot as plt\n",
        "\n",
        "# Generate confusion matrix\n",
        "cm = confusion_matrix(y_test, y_pred)\n",
        "\n",
        "# Plot the confusion matrix\n",
        "disp = ConfusionMatrixDisplay(confusion_matrix=cm, display_labels=[0, 1])  # Specify the labels (0, 1) or use your specific classes\n",
        "disp.plot()\n",
        "\n",
        "# Show the plot\n",
        "plt.title(\"Confusion Matrix\")\n",
        "plt.show()"
      ],
      "metadata": {
        "id": "3NHzDaxnB1d8"
      },
      "execution_count": null,
      "outputs": []
    },
    {
      "cell_type": "markdown",
      "source": [
        "**So, we are getting approximately 89% accuracy**"
      ],
      "metadata": {
        "id": "d9RyIsw7PBnP"
      }
    }
  ]
}